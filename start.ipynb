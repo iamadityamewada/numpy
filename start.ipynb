{
 "cells": [
  {
   "cell_type": "code",
   "execution_count": 29,
   "id": "faabdc25",
   "metadata": {},
   "outputs": [
    {
     "name": "stdout",
     "output_type": "stream",
     "text": [
      "[3 4 5 6 7]\n"
     ]
    }
   ],
   "source": [
    "## NUMPY array and basics\n",
    "\n",
    "\n",
    "# creating array using NUMPY\n",
    "\n",
    "import numpy as np\n",
    "\n",
    "arr = np.array([3,4,5,6,7])\n",
    "print(arr)"
   ]
  },
  {
   "cell_type": "code",
   "execution_count": 30,
   "id": "2cae779c",
   "metadata": {},
   "outputs": [
    {
     "name": "stdout",
     "output_type": "stream",
     "text": [
      "2.2.4\n"
     ]
    }
   ],
   "source": [
    "print(np.__version__)"
   ]
  },
  {
   "cell_type": "code",
   "execution_count": 31,
   "id": "da2efafb",
   "metadata": {},
   "outputs": [
    {
     "name": "stdout",
     "output_type": "stream",
     "text": [
      "[4 8 3] <class 'numpy.ndarray'>\n",
      "[[4 5 6 3]\n",
      " [3 5 4 6]\n",
      " [4 8 9 0]] 2 <class 'numpy.ndarray'>\n"
     ]
    }
   ],
   "source": [
    "# checking number of dimension\n",
    "\n",
    "arr = np.array([[4,5,6,3],[3,5,4,6],[4,8,9,0]])\n",
    "ar = np.array([4,8,3])\n",
    "print(ar, type(ar))\n",
    "\n",
    "print(arr , arr.ndim , type(arr))"
   ]
  },
  {
   "cell_type": "code",
   "execution_count": 32,
   "id": "a4970763",
   "metadata": {},
   "outputs": [
    {
     "name": "stdout",
     "output_type": "stream",
     "text": [
      "[[3 4 5 6]] 2\n"
     ]
    }
   ],
   "source": [
    "#defining number of dimesion \n",
    "\n",
    "arr = np.array([3,4,5,6], ndmin= 2)\n",
    "\n",
    "print(arr , arr.ndim)"
   ]
  },
  {
   "cell_type": "code",
   "execution_count": 37,
   "id": "f25aa5ea",
   "metadata": {},
   "outputs": [
    {
     "name": "stdout",
     "output_type": "stream",
     "text": [
      "3\n"
     ]
    }
   ],
   "source": [
    "# indexing \n",
    "\n",
    "arr = np.array([[4,5,6,3],[4,6,7,8]])\n",
    "\n",
    "print(arr[0,3])\n",
    "\n",
    "\n"
   ]
  },
  {
   "cell_type": "code",
   "execution_count": null,
   "id": "a90f4c75",
   "metadata": {},
   "outputs": [
    {
     "name": "stdout",
     "output_type": "stream",
     "text": [
      "[5 6]\n",
      "[5 6 3]\n"
     ]
    }
   ],
   "source": [
    "#slicing \n",
    "arr = np.array([[4,5,6,3],[4,6,7,8]])\n",
    "\n",
    "print(arr[0,1:3])\n",
    "print(arr[0,1:4])\n",
    "\n",
    "\n",
    "arr = np.array([1, 2, 3, 4, 5, 6, 7])\n",
    "\n",
    "print(arr[1:5:2])"
   ]
  },
  {
   "cell_type": "code",
   "execution_count": null,
   "id": "2b23de2d",
   "metadata": {},
   "outputs": [],
   "source": []
  }
 ],
 "metadata": {
  "kernelspec": {
   "display_name": "env",
   "language": "python",
   "name": "python3"
  },
  "language_info": {
   "codemirror_mode": {
    "name": "ipython",
    "version": 3
   },
   "file_extension": ".py",
   "mimetype": "text/x-python",
   "name": "python",
   "nbconvert_exporter": "python",
   "pygments_lexer": "ipython3",
   "version": "3.12.6"
  }
 },
 "nbformat": 4,
 "nbformat_minor": 5
}
