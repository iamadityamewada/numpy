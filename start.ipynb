{
 "cells": [
  {
   "cell_type": "code",
   "execution_count": null,
   "id": "faabdc25",
   "metadata": {},
   "outputs": [],
   "source": [
    "## NUMPY array and basics\n",
    "\n",
    "\n",
    "# creating array using NUMPY\n",
    "\n",
    "import numpy as np\n",
    "\n",
    "arr = np.array(3,4,5,6,7)\n",
    "print(arr)"
   ]
  }
 ],
 "metadata": {
  "kernelspec": {
   "display_name": "env",
   "language": "python",
   "name": "python3"
  },
  "language_info": {
   "name": "python",
   "version": "3.12.6"
  }
 },
 "nbformat": 4,
 "nbformat_minor": 5
}
